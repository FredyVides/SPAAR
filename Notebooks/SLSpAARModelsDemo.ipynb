{
 "cells": [
  {
   "cell_type": "markdown",
   "id": "ce1e3478",
   "metadata": {},
   "source": [
    "# Computing Semilinear Sparse Models for Approximately Eventually Periodic Signals\n",
    "<br />\n",
    "\n",
    "### Fredy Vides \n",
    "### Scientific Computing Innovation Center, Universidad Nacional Autónoma de Honduras"
   ]
  },
  {
   "cell_type": "markdown",
   "id": "ffcb8b40",
   "metadata": {},
   "source": [
    "This notebook is based on the methods presented in the document [1], and contains programs for the computation of discrete-time signal models of the form:\n",
    "$$\n",
    "x_{t+1}=\\mathcal{L}(x_{t},\\ldots,x_{t-L+1})+\\mathcal{G}(x_{t},\\ldots,x_{t-L+1})+\\mathcal{E}(x_{t},\\ldots,x_{t-L+1}), t\\geq L\n",
    "$$\n",
    "for some given approximately eventually periodic signal $\\Sigma=\\{x_t\\}_{t\\geq 1}$. The terms $\\mathcal{L}$, $\\mathcal{G}$ and $\\mathcal{E}$, denote the linear, nonlinear and error terms of the model, respectively."
   ]
  },
  {
   "cell_type": "markdown",
   "id": "fb6e130d",
   "metadata": {},
   "source": [
    "\n",
    "## Install and Include programs and modules"
   ]
  },
  {
   "cell_type": "code",
   "execution_count": 1,
   "id": "a01f75fe",
   "metadata": {},
   "outputs": [],
   "source": [
    "# For execution on IBM Quantum Lab\n",
    "#!pip install tensorflow-cpu\n",
    "#!pip install -U numpy\n",
    "#!pip install -U torch\n",
    "#!pip install -U torchvision\n",
    "\n",
    "# For execution on Google Colab\n",
    "#!pip install -U statsmodels\n",
    "\n",
    "from pandas import read_csv\n",
    "from matplotlib.pyplot import plot,stem,show,subplots,legend,semilogy\n",
    "from numpy import append,array,ceil,fliplr,roots,reshape,zeros,real,imag,linspace,cos,sin,pi,inf,where,identity,ceil,count_nonzero\n",
    "from numpy.linalg import norm,eig,svd\n",
    "from statsmodels.tsa.ar_model import AutoReg\n",
    "from sklearn.metrics import mean_squared_error\n",
    "from math import sqrt"
   ]
  },
  {
   "cell_type": "markdown",
   "id": "7831f977",
   "metadata": {},
   "source": [
    "## Define sparse linear least squares solver"
   ]
  },
  {
   "cell_type": "code",
   "execution_count": 2,
   "id": "51f88050",
   "metadata": {},
   "outputs": [],
   "source": [
    "#!/usr/bin/env python3\n",
    "\"\"\"\n",
    "Created on Wed Mar 31 02:57:52 2021\n",
    "LSSPSOLVER  Sparse linear least squares solver\n",
    "   Code by Fredy Vides\n",
    "   For Paper, \"Computing Sparse Semilinear Models for Approximately Eventually Periodic Signals\"\n",
    "   by F. Vides\n",
    "@author: Fredy Vides\n",
    "\"\"\"\n",
    "\n",
    "def lsspsolver(A,Y,L=100,tol=1e-2,delta=1e-2):\n",
    "    from numpy.linalg import svd,lstsq,norm\n",
    "    from numpy import zeros,dot,diag,argsort,sort,inf\n",
    "    N=A.shape[1]\n",
    "    X=zeros((N,))\n",
    "    u,s,v=svd(A,full_matrices=0)\n",
    "    rk=sum(s>tol)\n",
    "    u=u[:,:rk]\n",
    "    s=s[:rk]\n",
    "    s=1/s\n",
    "    s=diag(s)\n",
    "    v=v[:rk,:]\n",
    "    A=dot(u.T,A)\n",
    "    Y=dot(u.T,Y)\n",
    "    X0=dot(v.T,dot(s,Y))\n",
    "    w=zeros((N,))\n",
    "    K=1\n",
    "    Error=1+tol\n",
    "    c=X0\n",
    "    x0=c\n",
    "    ac=abs(c)\n",
    "    f=argsort(-ac)\n",
    "    N0=max(sum(ac[f]>delta),1)\n",
    "    while (K<=L) & (Error>tol):\n",
    "        ff=f[:N0]\n",
    "        X=w\n",
    "        c, res, rnk, s = lstsq(A[:,ff],Y,rcond=None)\n",
    "        X[ff]=c\n",
    "        Error=norm(x0-X[:],inf)\n",
    "        x0=X\n",
    "        ac=abs(x0)\n",
    "        f=argsort(-ac)\n",
    "        N0=max(sum(ac[f]>delta),1)\n",
    "        K=K+1\n",
    "    return X"
   ]
  },
  {
   "cell_type": "markdown",
   "id": "c4e5d898",
   "metadata": {},
   "source": [
    "## Define Lag Estimator"
   ]
  },
  {
   "cell_type": "code",
   "execution_count": 3,
   "id": "36ae8674",
   "metadata": {},
   "outputs": [],
   "source": [
    "#!/usr/bin/env python3\n",
    "\"\"\"\n",
    "Created on Wed Mar 31 02:57:52 2021\n",
    "LAGESTIMATE ACF-FFT based sparse lag estimator\n",
    "   Code by Fredy Vides\n",
    "   For Paper, \"Computing Sparse Semilinear Models for Approximately Eventually Periodic Signals\"\n",
    "   by F. Vides\n",
    "@author: Fredy Vides\n",
    "\"\"\"\n",
    "def LagEstimate(data,L0):\n",
    "    from statsmodels.tsa.stattools import acf \n",
    "    from scipy.signal import find_peaks\n",
    "    from numpy import where\n",
    "    L = acf(data,adjusted=False,nlags=len(data),fft=True)\n",
    "    p = find_peaks(L)\n",
    "    q=where(L[p[0]]==L[p[0]].max())\n",
    "    L = max(p[0][q[0][0]],L0)\n",
    "    return L"
   ]
  },
  {
   "cell_type": "markdown",
   "id": "17fb3cba",
   "metadata": {},
   "source": [
    "## Define Sparse Autoregressor"
   ]
  },
  {
   "cell_type": "code",
   "execution_count": 4,
   "id": "3d26ad21",
   "metadata": {},
   "outputs": [],
   "source": [
    "#!/usr/bin/env python3\n",
    "\"\"\"\n",
    "Created on Wed Mar 31 02:57:52 2021\n",
    "SPAUTOREGRESSOR  Sparse autoregressor for time series modeling\n",
    "   Code by Fredy Vides\n",
    "   For Paper, \"Computing Sparse Semilinear Models for Approximately Eventually Periodic Signals\"\n",
    "   by F. Vides\n",
    "@author: Fredy Vides\n",
    "\"\"\"\n",
    "def SpAutoRegressor(x,ssp,sp,pp,L0,tol,delta):\n",
    "    from numpy import ceil,floor,max,min,asmatrix\n",
    "    from scipy.linalg import hankel\n",
    "    sl = len(x)\n",
    "    ssp=int(ceil(sl*ssp))\n",
    "    x = x[0:sl:ssp]\n",
    "    sl = len(x)\n",
    "    sp = int(ceil(sp*sl))\n",
    "    xt = x[:sp]\n",
    "    pp = max([min([floor(pp*sp),sl-sp]),L0])\n",
    "    xl = x[(sp+1):]\n",
    "    L=L0\n",
    "    H=hankel(xt[:L],xt[(L-1):])\n",
    "    Lh=H.shape[1]\n",
    "    H0=H[:,:-1]\n",
    "    H1=H[L-1,1:]\n",
    "    A = lsspsolver(H0.T,H1.T,L,tol,delta)\n",
    "    return A.T,H0[:,0]   "
   ]
  },
  {
   "cell_type": "markdown",
   "id": "884fcafd",
   "metadata": {},
   "source": [
    "## Define Sparse Predictor"
   ]
  },
  {
   "cell_type": "code",
   "execution_count": 5,
   "id": "1d604354",
   "metadata": {},
   "outputs": [],
   "source": [
    "#!/usr/bin/env python3\n",
    "\"\"\"\n",
    "Created on Wed Mar 31 02:57:52 2021\n",
    "SPARPREDICTOR  Sparse AR predictor for time series modeling\n",
    "   Code by Fredy Vides\n",
    "   For Paper, \"Computing Sparse Semilinear Models for Approximately Eventually Periodic Signals\"\n",
    "   by F. Vides\n",
    "@author: Fredy Vides\n",
    "\"\"\"\n",
    "\n",
    "def SPARPredictor(A,h,N):\n",
    "    from numpy import append\n",
    "    y=h\n",
    "    L = len(h)\n",
    "    for k in range(N):\n",
    "        y = append(y,A.dot(h))\n",
    "        h = y[k+1:L+k+1]\n",
    "    return y"
   ]
  },
  {
   "cell_type": "markdown",
   "id": "3ee31b51",
   "metadata": {},
   "source": [
    "## Define GRU RNN Models"
   ]
  },
  {
   "cell_type": "markdown",
   "id": "a9af7ec0",
   "metadata": {},
   "source": [
    "## Using TensorFlow"
   ]
  },
  {
   "cell_type": "code",
   "execution_count": 6,
   "id": "a5f3d023",
   "metadata": {},
   "outputs": [],
   "source": [
    "#!/usr/bin/env python3\n",
    "\"\"\"\n",
    "Created on Wed Mar 31 02:57:52 2021\n",
    "SPGRUMODEL GRU based sparse signal model\n",
    "   Code by Fredy Vides\n",
    "   For Paper, \"Computing Sparse Semilinear Models for Approximately Eventually Periodic Signals\"\n",
    "   by F. Vides\n",
    "@author: Fredy Vides\n",
    "\"\"\"\n",
    "def SpGRUModel(data,Lag,sp,nn,ep,spp = 0.1):\n",
    "    from keras.models import Sequential\n",
    "    from keras.layers import Dense\n",
    "    from keras.layers import GRU\n",
    "    from keras import regularizers\n",
    "    from sklearn.metrics import mean_squared_error\n",
    "    from numpy import append,reshape,vstack,arange\n",
    "    from scipy.linalg import hankel\n",
    "    from keras.callbacks import EarlyStopping\n",
    "    \n",
    "    md = data.min()\n",
    "    \n",
    "    Md = abs(data - md).max()\n",
    "    \n",
    "    data = (data-md)/Md\n",
    "    \n",
    "    L = int(len(data) * sp)\n",
    "    \n",
    "    xt = data[:L]\n",
    "    \n",
    "    H = hankel(xt[:Lag],xt[(Lag-1):]).T\n",
    "    \n",
    "    Xt = H[:-1,:]\n",
    "    Yt = H[1:,Lag-1]\n",
    "    \n",
    "    Xt = reshape(Xt, (Xt.shape[0], 1, Xt.shape[1]))\n",
    "    \n",
    "    TS_Model = Sequential([\n",
    "        GRU(nn, input_shape=(1, Lag),\n",
    "                  kernel_regularizer=regularizers.l1(spp),\n",
    "                  bias_regularizer=regularizers.l1(spp),\n",
    "                  activity_regularizer=regularizers.l1(spp)),\n",
    "        Dense(1,kernel_regularizer=regularizers.l1(spp),\n",
    "                  bias_regularizer=regularizers.l1(spp),\n",
    "                  activity_regularizer=regularizers.l1(spp))\n",
    "        ])\n",
    "        \n",
    "    TS_Model.compile(loss='mean_squared_error', optimizer='adam')\n",
    "    \n",
    "    callback = EarlyStopping(monitor='loss', mode='min', \n",
    "                         verbose=0, patience=10,min_delta=9e-4)\n",
    "    \n",
    "    TS_Model.fit(Xt, Yt, epochs=ep, batch_size=16, verbose=0,\n",
    "             workers=6,use_multiprocessing=True,callbacks=[callback])\n",
    "    \n",
    "    h = data[:Lag].copy()\n",
    "    \n",
    "    return TS_Model,H,h"
   ]
  },
  {
   "cell_type": "code",
   "execution_count": 7,
   "id": "0733a2c4",
   "metadata": {},
   "outputs": [],
   "source": [
    "\"\"\"\n",
    "Created on Wed Mar 31 02:57:52 2021\n",
    "SPGRUPREDICTOR GRU based sparse predictor\n",
    "   Code by Fredy Vides\n",
    "   For Paper, \"Computing Sparse Semilinear Models for Approximately Eventually Periodic Signals\"\n",
    "   by F. Vides\n",
    "@author: Fredy Vides\n",
    "\"\"\"\n",
    "def SpGRUPredictor(data,model,h,N):\n",
    "    from numpy import append,reshape\n",
    "    Lag = len(h)\n",
    "    md = data.min()\n",
    "    Md = abs(data - md).max()\n",
    "    X = []\n",
    "    x0 = []\n",
    "    X = h\n",
    "    x0 = reshape(h.copy(),(1,1,Lag))\n",
    "    for j in range(N):\n",
    "        x = model(x0)\n",
    "        x0[:1,:,:][0][0][:-1]=x0[:1,:,:][0][0][1:]\n",
    "        x0[:1,:,:][0][0][-1]=x\n",
    "        X = append(X,x)\n",
    "    X = Md*X+md    \n",
    "    return X"
   ]
  },
  {
   "cell_type": "markdown",
   "id": "ebe5e72b",
   "metadata": {},
   "source": [
    "## Using PyTorch"
   ]
  },
  {
   "cell_type": "code",
   "execution_count": 8,
   "id": "b067cf6e",
   "metadata": {},
   "outputs": [],
   "source": [
    "#!/usr/bin/env python3\n",
    "\"\"\"\n",
    "Created on Wed Mar 31 02:57:52 2021\n",
    "SPGRUMODEL GRU based sparse signal model\n",
    "   Code by Fredy Vides\n",
    "   For Paper, \"Computing Sparse Semilinear Models for Approximately Eventually Periodic Signals\"\n",
    "   by F. Vides\n",
    "@author: Fredy Vides\n",
    "\"\"\"\n",
    "def SpGRUModelTorch(data,Lag,sp,N,ep,spp = 0.1):\n",
    "    import torch\n",
    "    import torch.nn as nn\n",
    "    import numpy as np\n",
    "    from numpy import reshape\n",
    "    from scipy.linalg import hankel\n",
    "    \n",
    "    md = data.min()\n",
    "    \n",
    "    Md = abs(data - md).max()\n",
    "    \n",
    "    data = (data-md)/Md\n",
    "    \n",
    "    L = int(len(data) * sp)\n",
    "    \n",
    "    xt = data[:L]\n",
    "    \n",
    "    H = hankel(xt[:Lag],xt[(Lag-1):]).T\n",
    "    Xt = H[:-1,:]\n",
    "    Yt = H[1:,-1]\n",
    "    \n",
    "    Xtt = []\n",
    "    Ytt = []\n",
    "    for k in range(Xt.shape[0]-1):\n",
    "        Xtt.append(torch.FloatTensor(reshape(Xt[k],(1,1,Lag))))\n",
    "        Ytt.append(torch.FloatTensor(reshape(Yt[k],(1,1,1))))\n",
    "    \n",
    "    class GRU_Adapter(nn.Module):\n",
    "        def __init__(self, index):\n",
    "            super(GRU_Adapter, self).__init__()\n",
    "            self._name = 'gru_adapter'\n",
    "            self.index = index\n",
    "        def forward(self, inputs):\n",
    "            return inputs[self.index]\n",
    "   \n",
    "    model = torch.nn.Sequential(\n",
    "        torch.nn.GRU(Lag,N,batch_first=True),\n",
    "        GRU_Adapter(1),\n",
    "        torch.nn.Linear(N,1)\n",
    "        )\n",
    "    loss_function = nn.MSELoss()\n",
    "    optimizer = torch.optim.Adam(model.parameters(), lr=spp)\n",
    "    \n",
    "    error = 1.0\n",
    "    i = 0\n",
    "    while i <= ep and error>10*spp:\n",
    "        for k in range(len(Ytt)):\n",
    "            optimizer.zero_grad()\n",
    "            y_pred = model(Xtt[k])\n",
    "            single_loss = loss_function(y_pred, Ytt[k])\n",
    "            single_loss.backward()\n",
    "            optimizer.step()\n",
    "        error = single_loss.item()\n",
    "    \n",
    "    h = data[:Lag]\n",
    "    \n",
    "    return model,H,h"
   ]
  },
  {
   "cell_type": "code",
   "execution_count": 9,
   "id": "ef940bd0",
   "metadata": {},
   "outputs": [],
   "source": [
    "\"\"\"\n",
    "Created on Wed Mar 31 02:57:52 2021\n",
    "SPGRUPREDICTOR GRU based sparse predictor\n",
    "   Code by Fredy Vides\n",
    "   For Paper, \"Computing Sparse Semilinear Models for Approximately Eventually Periodic Signals\"\n",
    "   by F. Vides\n",
    "@author: Fredy Vides\n",
    "\"\"\"\n",
    "def SpGRUPredictorTorch(data,model,h,N):\n",
    "    from numpy import append,reshape\n",
    "    from torch import FloatTensor\n",
    "    Lag = len(h)\n",
    "    md = data.min()\n",
    "    Md = abs(data - md).max()\n",
    "    X = []\n",
    "    x0 = []\n",
    "    X = h\n",
    "    x0 = FloatTensor(reshape(h.copy(),(1,1,Lag)))\n",
    "    for j in range(N):\n",
    "        x = model(x0)\n",
    "        xc = x0.clone()\n",
    "        x0[0][0][:-1] = xc[0][0][1:]\n",
    "        x0[0][0][-1]=x.detach()\n",
    "        X = append(X,x.detach().numpy()[0][0])\n",
    "    X = Md*X+md\n",
    "    return X"
   ]
  },
  {
   "cell_type": "markdown",
   "id": "fea8bde2",
   "metadata": {},
   "source": [
    "## Set experiment number and some model parameters"
   ]
  },
  {
   "cell_type": "code",
   "execution_count": 10,
   "id": "ddc436a4",
   "metadata": {},
   "outputs": [],
   "source": [
    "experiment_number = 1\n",
    "delta = 1e-1\n",
    "tol = 1e-1\n",
    "sampling_proportion = 0.5\n",
    "if experiment_number <= 1:\n",
    "    tol = 4e-2\n",
    "    url = \"https://raw.githubusercontent.com/FredyVides/SPAAR/main/DataSets/VortexSheddingSignal.csv\"\n",
    "    data = read_csv(url)\n",
    "    data = data.values[:,0]\n",
    "    Lag = LagEstimate(data.copy(),215)\n",
    "    L0 = int(ceil(sampling_proportion*len(data)))\n",
    "    L0_AR = int(ceil(0.9*len(data)))\n",
    "    T = 16\n",
    "elif experiment_number == 2:\n",
    "    url = \"https://raw.githubusercontent.com/FredyVides/SPAAR/main/DataSets/NLOscillatorSignal.csv\"\n",
    "    tol = 9e-3\n",
    "    data = read_csv(url)\n",
    "    data = data.values[1,:]\n",
    "    Lag = LagEstimate(data.copy(),10)\n",
    "    L0 = int(ceil(sampling_proportion*len(data)))\n",
    "    L0_AR = L0\n",
    "    T = Lag\n",
    "elif experiment_number == 3.1:\n",
    "    url = \"https://raw.githubusercontent.com/numenta/NAB/master/data/artificialNoAnomaly/art_daily_no_noise.csv\"\n",
    "    data = read_csv(url, usecols=[1])\n",
    "    data = data.values[:,0]\n",
    "    Lag = LagEstimate(data.copy(),10)\n",
    "    L0 = int(ceil(sampling_proportion*len(data)))\n",
    "    L0_AR = L0\n",
    "    T = Lag\n",
    "elif experiment_number >= 3.2:\n",
    "    url = \"https://raw.githubusercontent.com/numenta/NAB/master/data/artificialNoAnomaly/art_daily_small_noise.csv\"\n",
    "    data = read_csv(url, usecols=[1])\n",
    "    data = data.values[:,0]\n",
    "    Lag = LagEstimate(data.copy(),10)\n",
    "    L0 = int(ceil(sampling_proportion*len(data)))\n",
    "    L0_AR = L0\n",
    "    T = Lag\n",
    "    \n",
    "nn = 16\n",
    "ep = 60\n",
    "md = data.min()\n",
    "Md = abs(data - md).max()\n",
    "steps = len(data)-Lag\n",
    "spp = 1e-5\n",
    "\n",
    "x = data\n",
    "xs = 2*(x-md)/Md-1\n",
    "L0 = int(ceil(sampling_proportion*len(xs)))"
   ]
  },
  {
   "cell_type": "markdown",
   "id": "0c8dacab",
   "metadata": {},
   "source": [
    "## Compute Models"
   ]
  },
  {
   "cell_type": "code",
   "execution_count": 11,
   "id": "0daf598b",
   "metadata": {},
   "outputs": [
    {
     "name": "stderr",
     "output_type": "stream",
     "text": [
      "2021-10-21 14:00:19.297112: I tensorflow/core/platform/cpu_feature_guard.cc:142] This TensorFlow binary is optimized with oneAPI Deep Neural Network Library (oneDNN) to use the following CPU instructions in performance-critical operations:  AVX2 FMA\n",
      "To enable them in other operations, rebuild TensorFlow with the appropriate compiler flags.\n",
      "2021-10-21 14:00:19.575209: I tensorflow/compiler/mlir/mlir_graph_optimization_pass.cc:185] None of the MLIR Optimization Passes are enabled (registered 2)\n"
     ]
    }
   ],
   "source": [
    "# Using standard autoregressor\n",
    "\n",
    "ss=1\n",
    "Xs = xs.copy()\n",
    "Xs = Xs[:len(Xs):ss]\n",
    "train, test = Xs[:L0_AR], Xs[L0_AR:]\n",
    "model = AutoReg(train, lags=Lag, old_names=False)\n",
    "model_fit = model.fit()\n",
    "B = fliplr(reshape(model_fit.params[1:],(1,Lag)))\n",
    "\n",
    "# Using sparse autoregressor\n",
    "\n",
    "A,h_0 = SpAutoRegressor(xs,1/len(xs),sampling_proportion,1,Lag,delta,tol)\n",
    "\n",
    "# Using TensorFlow GRU RNN\n",
    "\n",
    "TS_Model,H,h = SpGRUModel(data.copy(),Lag,sampling_proportion,nn,ep,spp)\n",
    "\n",
    "# Using PyTorch RNN\n",
    "\n",
    "TS_Model_1,H_1,h_1 = SpGRUModelTorch(data.copy(),Lag,sampling_proportion,nn,ep,spp)"
   ]
  },
  {
   "cell_type": "markdown",
   "id": "7ad525ec",
   "metadata": {},
   "source": [
    "## Compute sparse refinement of the input weights for the TensorFlow GRU models"
   ]
  },
  {
   "cell_type": "code",
   "execution_count": 12,
   "id": "ba14dca2",
   "metadata": {},
   "outputs": [],
   "source": [
    "W = TS_Model.layers[0].get_weights()\n",
    "\n",
    "X01 = H@W[0]\n",
    "U = [] \n",
    "for k in range(W[0].shape[1]):\n",
    "    w1 = lsspsolver(H,X01[:,k],100,delta,5e-3)\n",
    "    U.append(w1)\n",
    "\n",
    "U=array(U)\n",
    "\n",
    "W[0] = U.T\n",
    "    \n",
    "TS_Model.layers[0].set_weights(W)"
   ]
  },
  {
   "cell_type": "markdown",
   "id": "45a76b00",
   "metadata": {},
   "source": [
    "## Compute predictions"
   ]
  },
  {
   "cell_type": "code",
   "execution_count": 13,
   "id": "25fd620f",
   "metadata": {},
   "outputs": [],
   "source": [
    " # With the sparse autoregressor\n",
    "y = Md*(SPARPredictor(A,h_0,steps)+1)/2+md\n",
    "# With the standard autoregressor\n",
    "predictions = model_fit.predict(Lag, end=len(data)-1, dynamic=False)\n",
    "predictions = Md*(predictions+1)/2+md\n",
    "predictions = append(data[:Lag],predictions)\n",
    "# With the TensorFlow GRU model\n",
    "X = SpGRUPredictor(data.copy(),TS_Model,h.copy(),steps)\n",
    "# With the PyTorch GRU model\n",
    "X1 = SpGRUPredictorTorch(data.copy(),TS_Model_1,h_1.copy(),steps)"
   ]
  },
  {
   "cell_type": "markdown",
   "id": "b6832017",
   "metadata": {},
   "source": [
    "## Extract approximately periodic component from the approximate spectra"
   ]
  },
  {
   "cell_type": "code",
   "execution_count": 14,
   "id": "29adb482",
   "metadata": {},
   "outputs": [],
   "source": [
    "threshold = 2*delta/Md\n",
    "\n",
    "C0 = zeros((Lag,Lag))\n",
    "for k in range(Lag-1):\n",
    "    C0[k,k+1]=1\n",
    "\n",
    "C1 = C0.copy()\n",
    "C0[-1,:] = A\n",
    "C1[-1,:] = B\n",
    "\n",
    "t = linspace(0,1,1001)\n",
    "xt = cos(2*pi*t)\n",
    "yt = sin(2*pi*t)\n",
    "\n",
    "if experiment_number == 1:\n",
    "    h01 = xs[Lag:2*Lag].copy()\n",
    "    h02 = h01.copy()\n",
    "elif experiment_number != 1:\n",
    "    h01 = xs[:Lag].copy()\n",
    "    h02 = h01.copy()\n",
    "    \n",
    "h1 = []\n",
    "h2 = []\n",
    "\n",
    "for k in range(Lag):\n",
    "    h1.append(h01)\n",
    "    h2.append(h02)\n",
    "    h01 = C0@h01\n",
    "    h02 = C1@h02\n",
    "    \n",
    "h01 = array(h1).T\n",
    "h02 = array(h2).T\n",
    "\n",
    "u1,s1,_ = svd(h01,full_matrices=False)\n",
    "u2,s2,_ = svd(h02,full_matrices=False)\n",
    "\n",
    "r1 = sum(s1>threshold)\n",
    "r2 = sum(s2>threshold)\n",
    "\n",
    "u1 = u1[:,:r1]\n",
    "u2 = u2[:,:r2]\n",
    "\n",
    "C00 = u1.conj().T@C0@u1\n",
    "C01 = u2.conj().T@C1@u2\n",
    "D00 = C00\n",
    "D01 = C01\n",
    "\n",
    "l0,_ = eig(C00)\n",
    "l1,_ = eig(C01)\n",
    "\n",
    "for k in range(T-1):\n",
    "    D00 = D00@C00\n",
    "    D01 = D01@C01\n",
    "    \n",
    "l00,_ = eig(D00)\n",
    "l01,_ = eig(D01)"
   ]
  },
  {
   "cell_type": "markdown",
   "id": "3c6a5522",
   "metadata": {},
   "source": [
    "## Compute mixed model and plot the results summary"
   ]
  },
  {
   "cell_type": "code",
   "execution_count": 15,
   "id": "14016af5",
   "metadata": {},
   "outputs": [
    {
     "name": "stdout",
     "output_type": "stream",
     "text": [
      "Mixing coefficients:  [0.85223347 0.14746477 0.        ]\n",
      "nnz(A):  1\n",
      "nnz(B):  215\n"
     ]
    },
    {
     "data": {
      "image/png": "[encoded data removed]",
      "text/plain": [
       "<Figure size 432x288 with 4 Axes>"
      ]
     },
     "metadata": {
      "needs_background": "light"
     },
     "output_type": "display_data"
    },
    {
     "data": {
      "image/png": "[encoded data removed]",
      "text/plain": [
       "<Figure size 432x288 with 4 Axes>"
      ]
     },
     "metadata": {
      "needs_background": "light"
     },
     "output_type": "display_data"
    },
    {
     "name": "stdout",
     "output_type": "stream",
     "text": [
      "SpARGRU RMSE: 0.0031596986\n",
      "AR RMSE: 0.0000035594\n"
     ]
    }
   ],
   "source": [
    "A0 = zeros((3,L0))\n",
    "A0[0,:] = y[:L0]\n",
    "A0[1,:] = X[:L0]\n",
    "A0[2,:] = X1[:L0]\n",
    "W0 = lsspsolver(A0.T,data[:L0],100,1e-2,1e-2)\n",
    "print(\"Mixing coefficients: \",W0)\n",
    "\n",
    "z = W0[0]*y+W0[1]*X+W0[2]*X1\n",
    "fig_0,axs_0 = subplots(2,2)\n",
    "axs_0[0,0].plot(data),axs_0[0,0].plot(z,'.-')\n",
    "axs_0[0,0].legend(['reference','identification'],loc = 'lower left')\n",
    "axs_0[0,1].semilogy(abs(data-z),'b.-')\n",
    "axs_0[0,1].semilogy(abs(predictions-z),'r.-')\n",
    "axs_0[0,1].grid(True)\n",
    "axs_0[0,1].legend(['SpARGRU','AR'])\n",
    "axs_0[1,0].stem(A)\n",
    "axs_0[1,1].stem(B[0,:])\n",
    "print(\"nnz(A): \",count_nonzero(A))\n",
    "print(\"nnz(B): \",count_nonzero(B[0,:]))\n",
    "fig_1,axs_1 = subplots(2,2)\n",
    "axs_1[0,0].plot(xt,yt,'b')\n",
    "axs_1[0,0].plot(real(l0),imag(l0),'r.')\n",
    "axs_1[0,0].axis('equal')\n",
    "axs_1[0,1].plot(xt,yt,'b')\n",
    "axs_1[0,1].plot(real(l1),imag(l1),'r.')\n",
    "axs_1[0,1].axis('equal')\n",
    "axs_1[1,0].plot(xt,yt,'b')\n",
    "axs_1[1,0].plot(real(l00),imag(l00),'r.')\n",
    "axs_1[1,0].axis('equal')\n",
    "axs_1[1,1].plot(xt,yt,'b')\n",
    "axs_1[1,1].plot(real(l01),imag(l01),'r.')\n",
    "axs_1[1,1].axis('equal')\n",
    "show()\n",
    "\n",
    "#fig_0.savefig('fig_results_summary_0_'+str(experiment_number)+'.eps',dpi=600,format='eps')\n",
    "#fig_0.savefig('fig_results_summary_0_'+str(experiment_number)+'.png',dpi=600,format='png')\n",
    "#fig_1.savefig('fig_results_summary_1_'+str(experiment_number)+'.eps',dpi=600,format='eps')\n",
    "#fig_1.savefig('fig_results_summary_1_'+str(experiment_number)+'.png',dpi=600,format='png')\n",
    "\n",
    "rmse_0 = sqrt(mean_squared_error(data[Lag:], z[Lag:]))\n",
    "rmse_1 = sqrt(mean_squared_error(data[Lag:], predictions[Lag:]))\n",
    "print('SpARGRU RMSE: %.10f' %rmse_0)\n",
    "print('AR RMSE: %.10f' %rmse_1)"
   ]
  },
  {
   "cell_type": "markdown",
   "id": "4614170b",
   "metadata": {},
   "source": [
    "## References\n",
    "\n",
    "1. Vides, F. (2021). Computing Semilinear Sparse Models for Approximately Eventually Periodic Signals. Technical report. URL https://github.com/FredyVides/SPAAR/blob/main/Documentation/SLSpAAR_FVides.pdf."
   ]
  }
 ],
 "metadata": {
  "kernelspec": {
   "display_name": "Python 3 (ipykernel)",
   "language": "python",
   "name": "python3"
  },
  "language_info": {
   "codemirror_mode": {
    "name": "ipython",
    "version": 3
   },
   "file_extension": ".py",
   "mimetype": "text/x-python",
   "name": "python",
   "nbconvert_exporter": "python",
   "pygments_lexer": "ipython3",
   "version": "3.8.10"
  }
 },
 "nbformat": 4,
 "nbformat_minor": 5
}

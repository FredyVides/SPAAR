{
 "cells": [
  {
   "cell_type": "markdown",
   "id": "suspected-pursuit",
   "metadata": {},
   "source": [
    "# Computing Semilinear Sparse Models for Approximately Eventually Periodic Signals\n",
    "<br />\n",
    "\n",
    "### Fredy Vides \n",
    "### Scientific Computing Innovation Center, Universidad Nacional Autónoma de Honduras"
   ]
  },
  {
   "cell_type": "markdown",
   "id": "satellite-competition",
   "metadata": {},
   "source": [
    "This notebook is based on the methods presented in the document [1], and contains programs for the computation of discrete-time signal models of the form:\n",
    "$$\n",
    "x_{t+1}=\\mathcal{L}(x_{t},\\ldots,x_{t-L+1})+\\mathcal{G}(x_{t},\\ldots,x_{t-L+1})+\\mathcal{E}(x_{t},\\ldots,x_{t-L+1}), t\\geq L\n",
    "$$\n",
    "for some given approximately eventually periodic signal $\\Sigma=\\{x_t\\}_{t\\geq 1}$. The terms $\\mathcal{L}$, $\\mathcal{G}$ and $\\mathcal{E}$, denote the linear, nonlinear and error terms of the model, respectively."
   ]
  },
  {
   "cell_type": "markdown",
   "id": "indoor-burke",
   "metadata": {},
   "source": [
    "\n",
    "## Set experiment number, and install and include programs and modules"
   ]
  },
  {
   "cell_type": "code",
   "execution_count": 16,
   "id": "dynamic-salad",
   "metadata": {},
   "outputs": [],
   "source": [
    "# For execution on IBM Quantum Lab\n",
    "#!pip install tensorflow-cpu\n",
    "#!pip install -U numpy\n",
    "#!pip install -U torch\n",
    "#!pip install -U torchvision\n",
    "\n",
    "# For execution on Google Colab\n",
    "#!pip install -U statsmodels\n",
    "\n",
    "experiment_number = 1\n",
    "\n",
    "from pandas import read_csv\n",
    "from matplotlib.pyplot import show,subplots\n",
    "from numpy import append,array,fliplr,reshape,zeros,real,imag,linspace,cos,sin,pi,ceil,count_nonzero\n",
    "from numpy.linalg import eig,svd\n",
    "from statsmodels.tsa.ar_model import AutoReg\n",
    "from sklearn.metrics import mean_squared_error\n",
    "from math import sqrt"
   ]
  },
  {
   "cell_type": "markdown",
   "id": "antique-dispute",
   "metadata": {},
   "source": [
    "## Define sparse linear least squares solver"
   ]
  },
  {
   "cell_type": "code",
   "execution_count": 17,
   "id": "antique-rogers",
   "metadata": {},
   "outputs": [],
   "source": [
    "\"\"\"\n",
    "Created on Wed Mar 31 02:57:52 2021\n",
    "SPSOLVER  Sparse linear least squares solver\n",
    "   Code by Fredy Vides\n",
    "   For Paper, \"Computing Sparse Semilinear Models for Approximately Eventually Periodic Signals\"\n",
    "   by F. Vides\n",
    "@author: Fredy Vides\n",
    "\"\"\"\n",
    "\n",
    "def spsolver(A,Y,L=100,mode = \"ls\",nz=100,tol=1e-2,delta=1e-2):\n",
    "    from numpy.linalg import svd,norm,lstsq\n",
    "    from numpy import zeros,dot,diag,argsort,inf\n",
    "    N = A.shape[1]\n",
    "    M = Y.shape[1]\n",
    "    if nz<0:\n",
    "        nz = N\n",
    "    X=zeros((N,M))\n",
    "    u,s,v=svd(A,full_matrices=0)\n",
    "    rk=sum(s>tol)\n",
    "    u=u[:,:rk]\n",
    "    s=s[:rk]\n",
    "    s=1/s\n",
    "    s=diag(s)\n",
    "    v=v[:rk,:]\n",
    "    A=dot(u.T,A)\n",
    "    Y=dot(u.T,Y)\n",
    "    X0=dot(v.T,dot(s,Y))\n",
    "    for k in range(M):\n",
    "        w=zeros((N,))\n",
    "        K=1\n",
    "        Error=1+tol\n",
    "        c=X0[:,k]\n",
    "        x0=c\n",
    "        ac=abs(c)\n",
    "        f=argsort(-ac)\n",
    "        N0=int(min(sum(ac[f]>delta),nz))\n",
    "        while (K<=L) & (Error>tol):\n",
    "            ff=f[:N0]\n",
    "            X[:,k]=w\n",
    "            if mode == \"ls\":\n",
    "                c = lstsq(A[:,ff],Y[:,k],rcond=None)[0]\n",
    "                X[ff,k]=c\n",
    "            else:\n",
    "                u,s,v=svd(A[:,ff],full_matrices=0)\n",
    "                rk=sum(s>tol)\n",
    "                u=u[:,:rk]\n",
    "                s=s[:rk]\n",
    "                s=1/s\n",
    "                s=diag(s)\n",
    "                v=v[:rk,:]\n",
    "                c = dot(v.T,dot(s,dot(u.T,Y[:,k])))\n",
    "            X[ff,k] = c\n",
    "            Error=norm(x0-X[:,k],inf)\n",
    "            x0=X[:,k]\n",
    "            ac=abs(x0)\n",
    "            f=argsort(-ac)\n",
    "            N0=int(min(sum(ac[f]>delta),nz))\n",
    "            K=K+1\n",
    "    return X"
   ]
  },
  {
   "cell_type": "markdown",
   "id": "ceramic-shell",
   "metadata": {},
   "source": [
    "## Define Lag Estimator"
   ]
  },
  {
   "cell_type": "code",
   "execution_count": 18,
   "id": "obvious-smoke",
   "metadata": {},
   "outputs": [],
   "source": [
    "#!/usr/bin/env python3\n",
    "\"\"\"\n",
    "Created on Wed Mar 31 02:57:52 2021\n",
    "LAGESTIMATE ACF-FFT based sparse lag estimator\n",
    "   Code by Fredy Vides\n",
    "   For Paper, \"Computing Sparse Semilinear Models for Approximately Eventually Periodic Signals\"\n",
    "   by F. Vides\n",
    "@author: Fredy Vides\n",
    "\"\"\"\n",
    "def LagEstimate(data,L0):\n",
    "    from statsmodels.tsa.stattools import acf \n",
    "    from scipy.signal import find_peaks\n",
    "    from numpy import where\n",
    "    L = acf(data,adjusted=False,nlags=len(data),fft=True)\n",
    "    p = find_peaks(L)\n",
    "    q=where(L[p[0]]==L[p[0]].max())\n",
    "    L = max(p[0][q[0][0]],L0)\n",
    "    return L"
   ]
  },
  {
   "cell_type": "markdown",
   "id": "material-siemens",
   "metadata": {},
   "source": [
    "## Define Sparse Autoregressor"
   ]
  },
  {
   "cell_type": "code",
   "execution_count": 19,
   "id": "rural-deviation",
   "metadata": {},
   "outputs": [],
   "source": [
    "#!/usr/bin/env python3\n",
    "\"\"\"\n",
    "Created on Wed Mar 31 02:57:52 2021\n",
    "SPAUTOREGRESSOR  Sparse autoregressor for time series modeling\n",
    "   Code by Fredy Vides\n",
    "   For Paper, \"Computing Sparse Semilinear Models for Approximately Eventually Periodic Signals\"\n",
    "   by F. Vides\n",
    "@author: Fredy Vides\n",
    "\"\"\"\n",
    "def SpAutoRegressor(x,ssp,sp,pp,L0,tol,delta,nz = 100):\n",
    "    from numpy import ceil,floor,max,min\n",
    "    from scipy.linalg import hankel\n",
    "    #from spsolver import spsolver\n",
    "    sl = len(x)\n",
    "    ssp=int(ceil(sl*ssp))\n",
    "    x = x[0:sl:ssp]\n",
    "    sl = len(x)\n",
    "    sp = int(ceil(sp*sl))\n",
    "    xt = x[:sp]\n",
    "    pp = max([min([floor(pp*sp),sl-sp]),L0])\n",
    "    L=L0\n",
    "    H=hankel(xt[:L],xt[(L-1):])\n",
    "    H0=H[:,:-1]\n",
    "    H1=H[L-1:,1:]\n",
    "    A = spsolver(H0.T,H1.T,L,\"svd\",nz,tol,delta)\n",
    "    return A.T,H0[:,0]   "
   ]
  },
  {
   "cell_type": "markdown",
   "id": "otherwise-priest",
   "metadata": {},
   "source": [
    "## Define Sparse Predictor"
   ]
  },
  {
   "cell_type": "code",
   "execution_count": 20,
   "id": "following-survival",
   "metadata": {},
   "outputs": [],
   "source": [
    "#!/usr/bin/env python3\n",
    "\"\"\"\n",
    "Created on Wed Mar 31 02:57:52 2021\n",
    "SPARPREDICTOR  Sparse AR predictor for time series modeling\n",
    "   Code by Fredy Vides\n",
    "   For Paper, \"Computing Sparse Semilinear Models for Approximately Eventually Periodic Signals\"\n",
    "   by F. Vides\n",
    "@author: Fredy Vides\n",
    "\"\"\"\n",
    "\n",
    "def SPARPredictor(A,h,N):\n",
    "    from numpy import append\n",
    "    y=h\n",
    "    L = len(h)\n",
    "    for k in range(N):\n",
    "        y = append(y,A.dot(h))\n",
    "        h = y[k+1:L+k+1]\n",
    "    return y"
   ]
  },
  {
   "cell_type": "markdown",
   "id": "champion-profession",
   "metadata": {},
   "source": [
    "## Define GRU RNN Models"
   ]
  },
  {
   "cell_type": "markdown",
   "id": "olympic-runner",
   "metadata": {},
   "source": [
    "## Using TensorFlow"
   ]
  },
  {
   "cell_type": "code",
   "execution_count": 21,
   "id": "after-crest",
   "metadata": {},
   "outputs": [],
   "source": [
    "#!/usr/bin/env python3\n",
    "\"\"\"\n",
    "Created on Wed Mar 31 02:57:52 2021\n",
    "SPGRUMODEL GRU based sparse signal model\n",
    "   Code by Fredy Vides\n",
    "   For Paper, \"Computing Sparse Semilinear Models for Approximately Eventually Periodic Signals\"\n",
    "   by F. Vides\n",
    "@author: Fredy Vides\n",
    "\"\"\"\n",
    "def SpGRUModel(data,Lag,sp,nn,ep,spp = 0.1):\n",
    "    from keras.models import Sequential\n",
    "    from keras.layers import Dense\n",
    "    from keras.layers import GRU\n",
    "    from keras import regularizers\n",
    "    from sklearn.metrics import mean_squared_error\n",
    "    from numpy import append,reshape,vstack,arange\n",
    "    from scipy.linalg import hankel\n",
    "    from keras.callbacks import EarlyStopping\n",
    "    \n",
    "    md = data.min()\n",
    "    \n",
    "    Md = abs(data - md).max()\n",
    "    \n",
    "    data = (data-md)/Md\n",
    "    \n",
    "    L = int(len(data) * sp)\n",
    "    \n",
    "    xt = data[:L]\n",
    "    \n",
    "    H = hankel(xt[:Lag],xt[(Lag-1):]).T\n",
    "    \n",
    "    Xt = H[:-1,:]\n",
    "    Yt = H[1:,Lag-1]\n",
    "    \n",
    "    Xt = reshape(Xt, (Xt.shape[0], 1, Xt.shape[1]))\n",
    "    \n",
    "    TS_Model = Sequential([\n",
    "        GRU(nn, input_shape=(1, Lag),\n",
    "                  kernel_regularizer=regularizers.l1(spp),\n",
    "                  bias_regularizer=regularizers.l1(spp),\n",
    "                  activity_regularizer=regularizers.l1(spp)),\n",
    "        Dense(1,kernel_regularizer=regularizers.l1(spp),\n",
    "                  bias_regularizer=regularizers.l1(spp),\n",
    "                  activity_regularizer=regularizers.l1(spp))\n",
    "        ])\n",
    "        \n",
    "    TS_Model.compile(loss='mean_squared_error', optimizer='adam')\n",
    "    \n",
    "    callback = EarlyStopping(monitor='loss', mode='min', \n",
    "                         verbose=0, patience=10,min_delta=9e-4)\n",
    "    \n",
    "    TS_Model.fit(Xt, Yt, epochs=ep, batch_size=16, verbose=0,\n",
    "             workers=6,use_multiprocessing=True,callbacks=[callback])\n",
    "    \n",
    "    h = data[:Lag].copy()\n",
    "    \n",
    "    return TS_Model,H,h"
   ]
  },
  {
   "cell_type": "code",
   "execution_count": 22,
   "id": "three-extreme",
   "metadata": {},
   "outputs": [],
   "source": [
    "\"\"\"\n",
    "Created on Wed Mar 31 02:57:52 2021\n",
    "SPGRUPREDICTOR GRU based sparse predictor\n",
    "   Code by Fredy Vides\n",
    "   For Paper, \"Computing Sparse Semilinear Models for Approximately Eventually Periodic Signals\"\n",
    "   by F. Vides\n",
    "@author: Fredy Vides\n",
    "\"\"\"\n",
    "def SpGRUPredictor(data,model,h,N):\n",
    "    from numpy import append,reshape\n",
    "    Lag = len(h)\n",
    "    md = data.min()\n",
    "    Md = abs(data - md).max()\n",
    "    X = []\n",
    "    x0 = []\n",
    "    X = h\n",
    "    x0 = reshape(h.copy(),(1,1,Lag))\n",
    "    for j in range(N):\n",
    "        x = model(x0)\n",
    "        x0[:1,:,:][0][0][:-1]=x0[:1,:,:][0][0][1:]\n",
    "        x0[:1,:,:][0][0][-1]=x\n",
    "        X = append(X,x)\n",
    "    X = Md*X+md    \n",
    "    return X"
   ]
  },
  {
   "cell_type": "markdown",
   "id": "controlling-thumb",
   "metadata": {},
   "source": [
    "## Using PyTorch"
   ]
  },
  {
   "cell_type": "code",
   "execution_count": 23,
   "id": "former-advance",
   "metadata": {},
   "outputs": [],
   "source": [
    "#!/usr/bin/env python3\n",
    "\"\"\"\n",
    "Created on Wed Mar 31 02:57:52 2021\n",
    "SPGRUMODEL GRU based sparse signal model\n",
    "   Code by Fredy Vides\n",
    "   For Paper, \"Computing Sparse Semilinear Models for Approximately Eventually Periodic Signals\"\n",
    "   by F. Vides\n",
    "@author: Fredy Vides\n",
    "\"\"\"\n",
    "def SpGRUModelTorch(data,Lag,sp,N,ep,spp = 0.1):\n",
    "    import torch\n",
    "    import torch.nn as nn\n",
    "    import numpy as np\n",
    "    from numpy import reshape\n",
    "    from scipy.linalg import hankel\n",
    "    \n",
    "    md = data.min()\n",
    "    \n",
    "    Md = abs(data - md).max()\n",
    "    \n",
    "    data = (data-md)/Md\n",
    "    \n",
    "    L = int(len(data) * sp)\n",
    "    \n",
    "    xt = data[:L]\n",
    "    \n",
    "    H = hankel(xt[:Lag],xt[(Lag-1):]).T\n",
    "    Xt = H[:-1,:]\n",
    "    Yt = H[1:,-1]\n",
    "    \n",
    "    Xtt = []\n",
    "    Ytt = []\n",
    "    for k in range(Xt.shape[0]-1):\n",
    "        Xtt.append(torch.FloatTensor(reshape(Xt[k],(1,1,Lag))))\n",
    "        Ytt.append(torch.FloatTensor(reshape(Yt[k],(1,1,1))))\n",
    "    \n",
    "    class GRU_Adapter(nn.Module):\n",
    "        def __init__(self, index):\n",
    "            super(GRU_Adapter, self).__init__()\n",
    "            self._name = 'gru_adapter'\n",
    "            self.index = index\n",
    "        def forward(self, inputs):\n",
    "            return inputs[self.index]\n",
    "   \n",
    "    model = torch.nn.Sequential(\n",
    "        torch.nn.GRU(Lag,N,batch_first=True),\n",
    "        GRU_Adapter(1),\n",
    "        torch.nn.Linear(N,1)\n",
    "        )\n",
    "    loss_function = nn.MSELoss()\n",
    "    optimizer = torch.optim.Adam(model.parameters(), lr=spp)\n",
    "    \n",
    "    error = 1.0\n",
    "    i = 0\n",
    "    while i <= ep and error>10*spp:\n",
    "        for k in range(len(Ytt)):\n",
    "            optimizer.zero_grad()\n",
    "            y_pred = model(Xtt[k])\n",
    "            single_loss = loss_function(y_pred, Ytt[k])\n",
    "            single_loss.backward()\n",
    "            optimizer.step()\n",
    "        error = single_loss.item()\n",
    "    \n",
    "    h = data[:Lag]\n",
    "    \n",
    "    return model,H,h"
   ]
  },
  {
   "cell_type": "code",
   "execution_count": 24,
   "id": "concerned-perception",
   "metadata": {},
   "outputs": [],
   "source": [
    "\"\"\"\n",
    "Created on Wed Mar 31 02:57:52 2021\n",
    "SPGRUPREDICTOR GRU based sparse predictor\n",
    "   Code by Fredy Vides\n",
    "   For Paper, \"Computing Sparse Semilinear Models for Approximately Eventually Periodic Signals\"\n",
    "   by F. Vides\n",
    "@author: Fredy Vides\n",
    "\"\"\"\n",
    "def SpGRUPredictorTorch(data,model,h,N):\n",
    "    from numpy import append,reshape\n",
    "    from torch import FloatTensor\n",
    "    Lag = len(h)\n",
    "    md = data.min()\n",
    "    Md = abs(data - md).max()\n",
    "    X = []\n",
    "    x0 = []\n",
    "    X = h\n",
    "    x0 = FloatTensor(reshape(h.copy(),(1,1,Lag)))\n",
    "    for j in range(N):\n",
    "        x = model(x0)\n",
    "        xc = x0.clone()\n",
    "        x0[0][0][:-1] = xc[0][0][1:]\n",
    "        x0[0][0][-1]=x.detach()\n",
    "        X = append(X,x.detach().numpy()[0][0])\n",
    "    X = Md*X+md\n",
    "    return X"
   ]
  },
  {
   "cell_type": "markdown",
   "id": "revised-cycling",
   "metadata": {},
   "source": [
    "## Set experiment number and some model parameters"
   ]
  },
  {
   "cell_type": "code",
   "execution_count": 25,
   "id": "convenient-surprise",
   "metadata": {},
   "outputs": [],
   "source": [
    "if experiment_number <= 1:\n",
    "    tol = 5e-4\n",
    "    delta = 5e-3\n",
    "    sampling_proportion = 17/100\n",
    "    url = \"https://raw.githubusercontent.com/FredyVides/SPAAR/main/DataSets/NoisyNLSystem1Data.csv\"\n",
    "    data = read_csv(url,header=None).values[:,0]\n",
    "    Lag = LagEstimate(data,1)\n",
    "    nz = Lag\n",
    "    Lag_AR = Lag\n",
    "    L0 = Lag+int(0.17*nz)\n",
    "    L0_AR = 2017\n",
    "    T = 576\n",
    "else:\n",
    "    tol = 5e-3\n",
    "    delta = 3e-2\n",
    "    sampling_proportion = 19/100\n",
    "    url = \"https://raw.githubusercontent.com/FredyVides/SPAAR/main/DataSets/NoisyNLSystem2Data.csv\"\n",
    "    data = read_csv(url,header=None).values[:,0]\n",
    "    Lag = 3*LagEstimate(data.copy(),10)\n",
    "    nz = Lag\n",
    "    Lag_AR = Lag\n",
    "    L0 = Lag+int(0.02*nz)\n",
    "    L0_AR = 2*Lag_AR+86\n",
    "    T = 295\n",
    "    \n",
    "nn = 16\n",
    "ep = 200\n",
    "md = data.min()\n",
    "Md = abs(data - md).max()\n",
    "steps = len(data)-Lag\n",
    "steps_AR = len(data)-1\n",
    "spp = 5e-6\n",
    "x = data.copy()\n",
    "xs = 2*(x-md)/Md-1"
   ]
  },
  {
   "cell_type": "markdown",
   "id": "received-ottawa",
   "metadata": {},
   "source": [
    "## Compute Models"
   ]
  },
  {
   "cell_type": "code",
   "execution_count": 26,
   "id": "precious-buyer",
   "metadata": {},
   "outputs": [],
   "source": [
    "# Using standard autoregressor\n",
    "\n",
    "ss=1\n",
    "Xs = xs.copy()\n",
    "Xs = Xs[:len(Xs):ss]\n",
    "train = Xs[:L0_AR]\n",
    "model = AutoReg(train, lags=Lag_AR, old_names=False, trend = 'n')\n",
    "    \n",
    "model_fit = model.fit()\n",
    "B = fliplr(reshape(model_fit.params,(1,Lag_AR)))\n",
    "# Using sparse autoregressor\n",
    "A,h_0 = SpAutoRegressor(xs,1/len(xs),sampling_proportion,1,Lag,tol,delta,nz)\n",
    "# Using TensorFlow GRU RNN\n",
    "TS_Model,H,h = SpGRUModel(data.copy(),Lag,sampling_proportion,nn,ep,spp)\n",
    "# Using PyTorch RNN\n",
    "TS_Model_1,H_1,h_1 = SpGRUModelTorch(data.copy(),Lag,sampling_proportion,nn,ep,spp)"
   ]
  },
  {
   "cell_type": "markdown",
   "id": "clinical-video",
   "metadata": {},
   "source": [
    "## Compute sparse refinement of the input weights for the TensorFlow GRU models"
   ]
  },
  {
   "cell_type": "code",
   "execution_count": 27,
   "id": "worthy-recording",
   "metadata": {},
   "outputs": [],
   "source": [
    "W = TS_Model.layers[0].get_weights()\n",
    "X01 = H@W[0]\n",
    "U = spsolver(H,X01,W[0].shape[0],\"svd\",W[0].shape[0],tol,1e2*spp)\n",
    "U = array(U)\n",
    "W[0] = U\n",
    "TS_Model.layers[0].set_weights(W)"
   ]
  },
  {
   "cell_type": "markdown",
   "id": "monetary-belief",
   "metadata": {},
   "source": [
    "## Compute predictions"
   ]
  },
  {
   "cell_type": "code",
   "execution_count": 28,
   "id": "phantom-context",
   "metadata": {},
   "outputs": [],
   "source": [
    "# With the sparse autoregressor\n",
    "y = Md*(SPARPredictor(A,h_0,steps)+1)/2+md\n",
    "# With the standard autoregressor\n",
    "predictions = model_fit.predict(Lag_AR, end=steps_AR, dynamic=False)\n",
    "predictions = Md*(predictions+1)/2+md\n",
    "predictions = append(data[:Lag],predictions)\n",
    "# With the TensorFlow GRU model\n",
    "X = SpGRUPredictor(data.copy(),TS_Model,h.copy(),steps)\n",
    "# With the PyTorch GRU model\n",
    "X1 = SpGRUPredictorTorch(data.copy(),TS_Model_1,h_1.copy(),steps)"
   ]
  },
  {
   "cell_type": "markdown",
   "id": "desperate-miller",
   "metadata": {},
   "source": [
    "## Extract approximately periodic component from the approximate spectra"
   ]
  },
  {
   "cell_type": "code",
   "execution_count": 29,
   "id": "whole-prescription",
   "metadata": {},
   "outputs": [],
   "source": [
    "threshold = 8*delta/Md\n",
    "C0 = zeros((Lag,Lag))\n",
    "C1 = zeros((Lag_AR,Lag_AR))\n",
    "for k in range(Lag-1):\n",
    "    C0[k,k+1]=1\n",
    "for k in range(Lag_AR-1):\n",
    "    C1[k,k+1]=1\n",
    "    \n",
    "C0[-1,:] = A\n",
    "C1[-1,:] = B\n",
    "\n",
    "t = linspace(0,1,1001)\n",
    "xt = cos(2*pi*t)\n",
    "yt = sin(2*pi*t)\n",
    "\n",
    "if experiment_number > 1:\n",
    "    h01 = xs[Lag:2*Lag].copy()\n",
    "    h02 = xs[Lag_AR:2*Lag_AR].copy()\n",
    "else:\n",
    "    h01 = xs[:Lag].copy()\n",
    "    h02 = xs[:Lag_AR].copy()\n",
    "    \n",
    "h1 = []\n",
    "h2 = []\n",
    "\n",
    "for k in range(T):\n",
    "    h1.append(h01)\n",
    "    h2.append(h02)\n",
    "    h01 = C0@h01\n",
    "    h02 = C1@h02\n",
    "    \n",
    "h01 = array(h1).T\n",
    "h02 = array(h2).T\n",
    "\n",
    "u1,s1,_ = svd(h01,full_matrices=False)\n",
    "u2,s2,_ = svd(h02,full_matrices=False)\n",
    "\n",
    "r1 = sum(s1>threshold)\n",
    "r2 = sum(s2>threshold)\n",
    "\n",
    "u1 = u1[:,:r1]\n",
    "u2 = u2[:,:r2]\n",
    "\n",
    "C00 = u1.conj().T@C0@u1\n",
    "C01 = u2.conj().T@C1@u2\n",
    "D00 = C00\n",
    "D01 = C01\n",
    "\n",
    "l0,_ = eig(C00)\n",
    "l1,_ = eig(C01)\n",
    "\n",
    "for k in range(T-1):\n",
    "    D00 = D00@C00\n",
    "    D01 = D01@C01\n",
    "    \n",
    "l00,_ = eig(D00)\n",
    "l01,_ = eig(D01)"
   ]
  },
  {
   "cell_type": "markdown",
   "id": "coastal-zoning",
   "metadata": {},
   "source": [
    "## Compute mixed model and plot the results summary"
   ]
  },
  {
   "cell_type": "code",
   "execution_count": 30,
   "id": "potential-intake",
   "metadata": {},
   "outputs": [
    {
     "name": "stdout",
     "output_type": "stream",
     "text": [
      "Mixing coefficients:  [[ 1.00071358e+00]\n",
      " [-1.44870206e-03]\n",
      " [ 7.35372508e-04]]\n"
     ]
    },
    {
     "data": {
      "image/png": "[encoded data removed]",
      "text/plain": [
       "<Figure size 432x288 with 2 Axes>"
      ]
     },
     "metadata": {
      "needs_background": "light"
     },
     "output_type": "display_data"
    },
    {
     "data": {
      "image/png": "[encoded data removed]",
      "text/plain": [
       "<Figure size 432x288 with 2 Axes>"
      ]
     },
     "metadata": {
      "needs_background": "light"
     },
     "output_type": "display_data"
    },
    {
     "name": "stdout",
     "output_type": "stream",
     "text": [
      "nnz(A):  83\n",
      "nnz(B):  572\n",
      "Sample size for SpARS:  669\n",
      "Sample size for standard AR:  2017\n"
     ]
    },
    {
     "data": {
      "image/png": "[encoded data removed]",
      "text/plain": [
       "<Figure size 432x288 with 4 Axes>"
      ]
     },
     "metadata": {
      "needs_background": "light"
     },
     "output_type": "display_data"
    },
    {
     "name": "stdout",
     "output_type": "stream",
     "text": [
      "SpARS RMSE: 0.0008765965\n",
      "AR RMSE: 0.0408614444\n"
     ]
    }
   ],
   "source": [
    "A0 = zeros((3,L0))\n",
    "A0[0,:] = y[:L0]\n",
    "A0[1,:] = X[:L0]\n",
    "A0[2,:] = X1[:L0]\n",
    "d = zeros((L0,1))\n",
    "d[:,0] = data[:L0]\n",
    "W0 = spsolver(A0.T,d,100,\"svd\",3,1e-3,5e-5)\n",
    "print(\"Mixing coefficients: \",W0)\n",
    "\n",
    "z = W0[0]*y+W0[1]*X+W0[2]*X1\n",
    "fig_0,axs_0 = subplots(2,1)\n",
    "axs_0[0].plot(data),axs_0[0].plot(z,'--')\n",
    "axs_0[0].set_xlabel('t')\n",
    "axs_0[0].set_ylabel('Signal')\n",
    "axs_0[0].legend(['reference','identification'],loc = 'lower center')\n",
    "axs_0[0].grid(True)\n",
    "axs_0[1].plot(data),axs_0[1].plot(predictions,'--')\n",
    "axs_0[1].set_xlabel('t')\n",
    "axs_0[1].set_ylabel('Signal')\n",
    "axs_0[1].legend(['reference','identification'],loc = 'lower center')\n",
    "axs_0[1].grid(True)\n",
    "show()\n",
    "\n",
    "tp1 = linspace(1, Lag, Lag)\n",
    "tp2 = linspace(1, Lag_AR, Lag_AR)\n",
    "fig_0,axs_0 = subplots(2,1)\n",
    "axs_0[0].stem(tp1,fliplr(reshape(A[0,:],(1,Lag)))[0,:])\n",
    "axs_0[0].set_xlabel('$k$')\n",
    "axs_0[0].set_ylabel('$c_{k}$')\n",
    "axs_0[0].grid(True)\n",
    "axs_0[1].stem(tp2,fliplr(reshape(B[0,:],(1,Lag_AR)))[0,:])\n",
    "axs_0[1].set_xlabel('$k$')\n",
    "axs_0[1].set_ylabel('$c_{k}$')\n",
    "axs_0[1].grid(True)\n",
    "show()\n",
    "print(\"nnz(A): \",count_nonzero(A))\n",
    "print(\"nnz(B): \",count_nonzero(B[0,:]))\n",
    "print(\"Sample size for SpARS: \",L0)\n",
    "print(\"Sample size for standard AR: \",L0_AR)\n",
    "\n",
    "fig_1,axs_1 = subplots(2,2)\n",
    "axs_1[0,0].plot(xt,yt,'b')\n",
    "axs_1[0,0].plot(real(l0),imag(l0),'r.')\n",
    "axs_1[0,0].grid(True)\n",
    "axs_1[0,0].axis('square')\n",
    "axs_1[0,1].plot(xt,yt,'b')\n",
    "axs_1[0,1].plot(real(l1),imag(l1),'r.')\n",
    "axs_1[0,1].grid(True)\n",
    "axs_1[0,1].axis('square')\n",
    "axs_1[1,0].plot(xt,yt,'b')\n",
    "axs_1[1,0].plot(real(l00),imag(l00),'r.')\n",
    "axs_1[1,0].grid(True)\n",
    "axs_1[1,0].axis('square')\n",
    "axs_1[1,1].plot(xt,yt,'b')\n",
    "axs_1[1,1].plot(real(l01),imag(l01),'r.')\n",
    "axs_1[1,1].grid(True)\n",
    "axs_1[1,1].axis('square')\n",
    "show()\n",
    "\n",
    "rmse_0 = sqrt(mean_squared_error(data[Lag:], z[Lag:len(data)]))\n",
    "rmse_1 = sqrt(mean_squared_error(data[Lag:], predictions[Lag:len(data)]))\n",
    "print('SpARS RMSE: %.10f' %rmse_0)\n",
    "print('AR RMSE: %.10f' %rmse_1)"
   ]
  },
  {
   "cell_type": "markdown",
   "id": "seventh-mandate",
   "metadata": {},
   "source": [
    "## References\n",
    "\n",
    "1. Vides, F. (2021). Computing Semilinear Sparse Models for Approximately Eventually Periodic Signals. Technical report. URL https://arxiv.org/pdf/2110.08966.pdf."
   ]
  }
 ],
 "metadata": {
  "kernelspec": {
   "display_name": "Python 3 (ipykernel)",
   "language": "python",
   "name": "python3"
  },
  "language_info": {
   "codemirror_mode": {
    "name": "ipython",
    "version": 3
   },
   "file_extension": ".py",
   "mimetype": "text/x-python",
   "name": "python",
   "nbconvert_exporter": "python",
   "pygments_lexer": "ipython3",
   "version": "3.8.10"
  }
 },
 "nbformat": 4,
 "nbformat_minor": 5
}
